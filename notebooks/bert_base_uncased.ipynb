{
 "cells": [
  {
   "cell_type": "markdown",
   "id": "43d804a4",
   "metadata": {},
   "source": [
    "### STEPS:\n",
    "#### 1. Training Process would be done here\n",
    "#### 2. Then we can save the model weights locally\n",
    "#### 3. Upload these weights to my S3 bucket\n",
    "#### 4. Use these weights for inference"
   ]
  },
  {
   "cell_type": "markdown",
   "id": "d77b0a21",
   "metadata": {},
   "source": [
    "## Saving the Model Weights locally"
   ]
  },
  {
   "cell_type": "code",
   "execution_count": 1,
   "id": "e3f54920",
   "metadata": {},
   "outputs": [
    {
     "name": "stderr",
     "output_type": "stream",
     "text": [
      "Some weights of the model checkpoint at bert-base-uncased were not used when initializing BertForMaskedLM: ['cls.seq_relationship.bias', 'cls.seq_relationship.weight', 'bert.pooler.dense.weight', 'bert.pooler.dense.bias']\n",
      "- This IS expected if you are initializing BertForMaskedLM from the checkpoint of a model trained on another task or with another architecture (e.g. initializing a BertForSequenceClassification model from a BertForPreTraining model).\n",
      "- This IS NOT expected if you are initializing BertForMaskedLM from the checkpoint of a model that you expect to be exactly identical (initializing a BertForSequenceClassification model from a BertForSequenceClassification model).\n"
     ]
    },
    {
     "data": {
      "text/plain": [
       "('../model/bert_base_uncased\\\\tokenizer_config.json',\n",
       " '../model/bert_base_uncased\\\\special_tokens_map.json',\n",
       " '../model/bert_base_uncased\\\\vocab.txt',\n",
       " '../model/bert_base_uncased\\\\added_tokens.json',\n",
       " '../model/bert_base_uncased\\\\tokenizer.json')"
      ]
     },
     "execution_count": 1,
     "metadata": {},
     "output_type": "execute_result"
    }
   ],
   "source": [
    "# Load model directly\n",
    "from transformers import AutoTokenizer, AutoModelForMaskedLM\n",
    "\n",
    "tokenizer = AutoTokenizer.from_pretrained(\"bert-base-uncased\")\n",
    "model = AutoModelForMaskedLM.from_pretrained(\"bert-base-uncased\")\n",
    "\n",
    "# Save model and tokenizer locally\n",
    "model.save_pretrained('../model/bert_base_uncased')\n",
    "tokenizer.save_pretrained('../model/bert_base_uncased')"
   ]
  },
  {
   "cell_type": "markdown",
   "id": "6c54551d",
   "metadata": {},
   "source": [
    "## Making a Prediction using the Saved Weights"
   ]
  },
  {
   "cell_type": "code",
   "execution_count": 4,
   "id": "209705cc",
   "metadata": {},
   "outputs": [
    {
     "name": "stdout",
     "output_type": "stream",
     "text": [
      "france is a [ mask ]..............................................................................................................................................\n"
     ]
    }
   ],
   "source": [
    "from transformers import AutoTokenizer, AutoModelForMaskedLM\n",
    "\n",
    "tokenizer.add_special_tokens({'pad_token': '[PAD]'})\n",
    "\n",
    "# Load BERT model and tokenizer\n",
    "model_path = '../model/bert_base_uncased'\n",
    "tokenizer = AutoTokenizer.from_pretrained(model_path)\n",
    "model = AutoModelForMaskedLM.from_pretrained(model_path)\n",
    "\n",
    "# Function to generate text given a prompt\n",
    "def generate_text(prompt, max_length=50, num_return_sequences=1):\n",
    "    # Tokenize the prompt\n",
    "    inputs = tokenizer(prompt, return_tensors=\"pt\")\n",
    "\n",
    "    # Generate text with the BERT model\n",
    "    outputs = model.generate(**inputs, max_length=max_length, num_return_sequences=num_return_sequences)\n",
    "\n",
    "    # Decode the generated output\n",
    "    generated_text = tokenizer.decode(outputs[0], skip_special_tokens=True)\n",
    "\n",
    "    return generated_text\n",
    "\n",
    "# Example prompt\n",
    "prompt = \"France is a [mask]\"\n",
    "\n",
    "# Generate text using the BERT model\n",
    "generated_text = generate_text(prompt, max_length=150, num_return_sequences=1)\n",
    "\n",
    "# Print the generated text\n",
    "print(generated_text)\n"
   ]
  },
  {
   "cell_type": "code",
   "execution_count": null,
   "id": "f7fbb9d7",
   "metadata": {},
   "outputs": [],
   "source": [
    "# import torch\n",
    "# from transformers import GPT2LMHeadModel, GPT2Tokenizer\n",
    "# import json\n",
    "\n",
    "# def model_fn(model_dir):\n",
    "#     model_path = f'{model_dir}/my_model'\n",
    "#     model = GPT2LMHeadModel.from_pretrained(model_path)\n",
    "#     tokenizer = GPT2Tokenizer.from_pretrained(model_path)\n",
    "#     return {'model': model, 'tokenizer': tokenizer}\n",
    "\n",
    "# def input_fn(request_body, content_type):\n",
    "#     if content_type == 'application/json':\n",
    "#         data = json.loads(request_body)\n",
    "#         return data['prompt']\n",
    "#     else:\n",
    "#         raise ValueError(f\"Unsupported content type: {content_type}\")\n",
    "\n",
    "# def output_fn(prediction, content_type):\n",
    "#     return prediction\n",
    "\n",
    "# def predict_fn(input_data, model):\n",
    "#     model = model['model'].to(torch.device(\"cuda\" if torch.cuda.is_available() else \"cpu\"))\n",
    "#     tokenizer = model['tokenizer']\n",
    "    \n",
    "#     max_length = 150\n",
    "#     num_return_sequences = 1\n",
    "\n",
    "#     input_ids = tokenizer.encode(input_data, return_tensors='pt', max_length=max_length, truncation=True, padding=True)\n",
    "\n",
    "#     output = model.generate(\n",
    "#         input_ids,\n",
    "#         max_length=max_length,\n",
    "#         num_return_sequences=num_return_sequences,\n",
    "#         no_repeat_ngram_size=2,\n",
    "#         pad_token_id=tokenizer.eos_token_id,\n",
    "#         attention_mask=input_ids.ne(tokenizer.pad_token_id)\n",
    "#     )\n",
    "\n",
    "#     generated_text = tokenizer.decode(output[0], skip_special_tokens=True)\n",
    "\n",
    "#     return generated_text\n"
   ]
  }
 ],
 "metadata": {
  "kernelspec": {
   "display_name": "Python 3 (ipykernel)",
   "language": "python",
   "name": "python3"
  },
  "language_info": {
   "codemirror_mode": {
    "name": "ipython",
    "version": 3
   },
   "file_extension": ".py",
   "mimetype": "text/x-python",
   "name": "python",
   "nbconvert_exporter": "python",
   "pygments_lexer": "ipython3",
   "version": "3.11.0"
  }
 },
 "nbformat": 4,
 "nbformat_minor": 5
}
